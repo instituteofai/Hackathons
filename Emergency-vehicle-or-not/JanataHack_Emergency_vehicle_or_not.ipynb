{
  "nbformat": 4,
  "nbformat_minor": 0,
  "metadata": {
    "kernelspec": {
      "name": "python3",
      "display_name": "Python 3"
    },
    "language_info": {
      "codemirror_mode": {
        "name": "ipython",
        "version": 3
      },
      "file_extension": ".py",
      "mimetype": "text/x-python",
      "name": "python",
      "nbconvert_exporter": "python",
      "pygments_lexer": "ipython3",
      "version": "3.6.6"
    },
    "colab": {
      "name": "JanataHack - Emergency vehicle or not.ipynb",
      "provenance": [],
      "collapsed_sections": [],
      "toc_visible": true,
      "machine_shape": "hm"
    },
    "accelerator": "GPU"
  },
  "cells": [
    {
      "cell_type": "markdown",
      "metadata": {
        "id": "GaqXg05-_yXP",
        "colab_type": "text"
      },
      "source": [
        "https://datahack.analyticsvidhya.com/contest/janatahack-computer-vision-hackathon/"
      ]
    },
    {
      "cell_type": "markdown",
      "metadata": {
        "id": "AjIfeULdPl0l",
        "colab_type": "text"
      },
      "source": [
        "# Data Description\n",
        "\n",
        "Total Images: 2352  \n",
        "Train Images: 1646 (70%)  \n",
        "Test Images: 706 (30%)  \n",
        "\n",
        "`train.zip`: contains 2 csvs and 1 folder containing image data\n",
        "\n",
        "`train.csv` – [‘image_names’, ‘emergency_or_not’] contains the image name and correct class for 1646 (70%) train images  \n",
        "\n",
        "`images` – contains 2352 images for both train and test sets (\n",
        "\n",
        "`test.csv`: [‘image_names’] contains just the image names for the 706 (30%) test images\n",
        "\n",
        "`sample_submission.csv`: [‘image_names’,’emergency_or_not­’] contains the exact format for a valid submission (1 - For Emergency Vehicle, 0 - For Non Emergency Vehicle)"
      ]
    },
    {
      "cell_type": "code",
      "metadata": {
        "id": "h6CYVuu6iRLP",
        "colab_type": "code",
        "colab": {}
      },
      "source": [
        "# from google.colab import drive\n",
        "# drive.mount('/content/drive')\n",
        "# !cp -r '/content/drive/My Drive/EmergencyVehicleOrNot' /content/emergencydata\n",
        "# !unzip '/content/emergencydata/train.zip' -d emergencydata"
      ],
      "execution_count": 2,
      "outputs": []
    },
    {
      "cell_type": "code",
      "metadata": {
        "id": "-yVpodAMpoCi",
        "colab_type": "code",
        "colab": {}
      },
      "source": [
        "import torch\n",
        "import torchvision\n",
        "import torchvision.transforms as transforms\n",
        "import numpy as np\n",
        "import pandas as pd"
      ],
      "execution_count": 3,
      "outputs": []
    },
    {
      "cell_type": "code",
      "metadata": {
        "id": "DlEycLcTvFKH",
        "colab_type": "code",
        "colab": {}
      },
      "source": [
        "img_dir = '/content/emergencydata/images'\n",
        "train_set_csv = '/content/emergencydata/train.csv'\n",
        "test_set_csv = '/content/emergencydata/test.csv'"
      ],
      "execution_count": 4,
      "outputs": []
    },
    {
      "cell_type": "code",
      "metadata": {
        "id": "28J5nYrpsn-L",
        "colab_type": "code",
        "colab": {
          "base_uri": "https://localhost:8080/",
          "height": 402
        },
        "outputId": "eb660216-8dc7-48d4-d921-960fb933453f"
      },
      "source": [
        "dataset = pd.read_csv('/content/emergencydata/train.csv')\n",
        "dataset"
      ],
      "execution_count": 5,
      "outputs": [
        {
          "output_type": "execute_result",
          "data": {
            "text/html": [
              "<div>\n",
              "<style scoped>\n",
              "    .dataframe tbody tr th:only-of-type {\n",
              "        vertical-align: middle;\n",
              "    }\n",
              "\n",
              "    .dataframe tbody tr th {\n",
              "        vertical-align: top;\n",
              "    }\n",
              "\n",
              "    .dataframe thead th {\n",
              "        text-align: right;\n",
              "    }\n",
              "</style>\n",
              "<table border=\"1\" class=\"dataframe\">\n",
              "  <thead>\n",
              "    <tr style=\"text-align: right;\">\n",
              "      <th></th>\n",
              "      <th>image_names</th>\n",
              "      <th>emergency_or_not</th>\n",
              "    </tr>\n",
              "  </thead>\n",
              "  <tbody>\n",
              "    <tr>\n",
              "      <th>0</th>\n",
              "      <td>1503.jpg</td>\n",
              "      <td>0</td>\n",
              "    </tr>\n",
              "    <tr>\n",
              "      <th>1</th>\n",
              "      <td>1420.jpg</td>\n",
              "      <td>0</td>\n",
              "    </tr>\n",
              "    <tr>\n",
              "      <th>2</th>\n",
              "      <td>1764.jpg</td>\n",
              "      <td>0</td>\n",
              "    </tr>\n",
              "    <tr>\n",
              "      <th>3</th>\n",
              "      <td>1356.jpg</td>\n",
              "      <td>0</td>\n",
              "    </tr>\n",
              "    <tr>\n",
              "      <th>4</th>\n",
              "      <td>1117.jpg</td>\n",
              "      <td>0</td>\n",
              "    </tr>\n",
              "    <tr>\n",
              "      <th>...</th>\n",
              "      <td>...</td>\n",
              "      <td>...</td>\n",
              "    </tr>\n",
              "    <tr>\n",
              "      <th>1641</th>\n",
              "      <td>1638.jpg</td>\n",
              "      <td>0</td>\n",
              "    </tr>\n",
              "    <tr>\n",
              "      <th>1642</th>\n",
              "      <td>1095.jpg</td>\n",
              "      <td>0</td>\n",
              "    </tr>\n",
              "    <tr>\n",
              "      <th>1643</th>\n",
              "      <td>1130.jpg</td>\n",
              "      <td>0</td>\n",
              "    </tr>\n",
              "    <tr>\n",
              "      <th>1644</th>\n",
              "      <td>1294.jpg</td>\n",
              "      <td>0</td>\n",
              "    </tr>\n",
              "    <tr>\n",
              "      <th>1645</th>\n",
              "      <td>860.jpg</td>\n",
              "      <td>1</td>\n",
              "    </tr>\n",
              "  </tbody>\n",
              "</table>\n",
              "<p>1646 rows × 2 columns</p>\n",
              "</div>"
            ],
            "text/plain": [
              "     image_names  emergency_or_not\n",
              "0       1503.jpg                 0\n",
              "1       1420.jpg                 0\n",
              "2       1764.jpg                 0\n",
              "3       1356.jpg                 0\n",
              "4       1117.jpg                 0\n",
              "...          ...               ...\n",
              "1641    1638.jpg                 0\n",
              "1642    1095.jpg                 0\n",
              "1643    1130.jpg                 0\n",
              "1644    1294.jpg                 0\n",
              "1645     860.jpg                 1\n",
              "\n",
              "[1646 rows x 2 columns]"
            ]
          },
          "metadata": {
            "tags": []
          },
          "execution_count": 5
        }
      ]
    },
    {
      "cell_type": "markdown",
      "metadata": {
        "id": "px1jWecOsNWL",
        "colab_type": "text"
      },
      "source": [
        "# split data into train and validation set"
      ]
    },
    {
      "cell_type": "code",
      "metadata": {
        "id": "bJthm87TsT62",
        "colab_type": "code",
        "colab": {
          "base_uri": "https://localhost:8080/",
          "height": 263
        },
        "outputId": "05639be4-07f3-47d6-93f9-287f62bba552"
      },
      "source": [
        "from sklearn.model_selection import train_test_split\n",
        "\n",
        "\n",
        "\n",
        "train_set, valid_set = train_test_split(dataset, test_size=0.2, random_state=42)\n",
        "\n",
        "print(train_set.shape)\n",
        "print(train_set.head(5))\n",
        "\n",
        "print(valid_set.shape)\n",
        "print(valid_set.head(5))"
      ],
      "execution_count": 6,
      "outputs": [
        {
          "output_type": "stream",
          "text": [
            "(1316, 2)\n",
            "     image_names  emergency_or_not\n",
            "819      796.jpg                 1\n",
            "1022    1882.jpg                 0\n",
            "1049     338.jpg                 1\n",
            "692     1937.jpg                 0\n",
            "544      871.jpg                 1\n",
            "(330, 2)\n",
            "     image_names  emergency_or_not\n",
            "680      242.jpg                 1\n",
            "1567    1495.jpg                 0\n",
            "724     1451.jpg                 0\n",
            "1142    1571.jpg                 0\n",
            "1273    1119.jpg                 0\n"
          ],
          "name": "stdout"
        }
      ]
    },
    {
      "cell_type": "code",
      "metadata": {
        "id": "P_uzHuyII6nV",
        "colab_type": "code",
        "colab": {
          "base_uri": "https://localhost:8080/",
          "height": 228
        },
        "outputId": "330bf92f-34c6-4aa2-a8b4-ca808b2beb19"
      },
      "source": [
        "dataset_csv = pd.read_csv(train_set_csv)\n",
        "dataset_csv.iloc[:, 0]"
      ],
      "execution_count": 7,
      "outputs": [
        {
          "output_type": "execute_result",
          "data": {
            "text/plain": [
              "0       1503.jpg\n",
              "1       1420.jpg\n",
              "2       1764.jpg\n",
              "3       1356.jpg\n",
              "4       1117.jpg\n",
              "          ...   \n",
              "1641    1638.jpg\n",
              "1642    1095.jpg\n",
              "1643    1130.jpg\n",
              "1644    1294.jpg\n",
              "1645     860.jpg\n",
              "Name: image_names, Length: 1646, dtype: object"
            ]
          },
          "metadata": {
            "tags": []
          },
          "execution_count": 7
        }
      ]
    },
    {
      "cell_type": "code",
      "metadata": {
        "id": "JmcKYnx6JqHA",
        "colab_type": "code",
        "colab": {
          "base_uri": "https://localhost:8080/",
          "height": 52
        },
        "outputId": "5c4c7cc4-53fb-4b4e-bacd-1bf76eb5c215"
      },
      "source": [
        "np.asarray(dataset_csv.iloc[:, 0])"
      ],
      "execution_count": 8,
      "outputs": [
        {
          "output_type": "execute_result",
          "data": {
            "text/plain": [
              "array(['1503.jpg', '1420.jpg', '1764.jpg', ..., '1130.jpg', '1294.jpg',\n",
              "       '860.jpg'], dtype=object)"
            ]
          },
          "metadata": {
            "tags": []
          },
          "execution_count": 8
        }
      ]
    },
    {
      "cell_type": "code",
      "metadata": {
        "id": "5S663_uJJaw2",
        "colab_type": "code",
        "colab": {
          "base_uri": "https://localhost:8080/",
          "height": 228
        },
        "outputId": "9ee706d8-d642-4c21-e12a-73c5bf7bc129"
      },
      "source": [
        "dataset_csv.iloc[:, 1]"
      ],
      "execution_count": 9,
      "outputs": [
        {
          "output_type": "execute_result",
          "data": {
            "text/plain": [
              "0       0\n",
              "1       0\n",
              "2       0\n",
              "3       0\n",
              "4       0\n",
              "       ..\n",
              "1641    0\n",
              "1642    0\n",
              "1643    0\n",
              "1644    0\n",
              "1645    1\n",
              "Name: emergency_or_not, Length: 1646, dtype: int64"
            ]
          },
          "metadata": {
            "tags": []
          },
          "execution_count": 9
        }
      ]
    },
    {
      "cell_type": "code",
      "metadata": {
        "id": "lbx27ylPJlgj",
        "colab_type": "code",
        "colab": {
          "base_uri": "https://localhost:8080/",
          "height": 34
        },
        "outputId": "a0889a2c-6552-4d18-ff85-05667f369214"
      },
      "source": [
        "np.asarray(dataset_csv.iloc[:, 1])"
      ],
      "execution_count": 10,
      "outputs": [
        {
          "output_type": "execute_result",
          "data": {
            "text/plain": [
              "array([0, 0, 0, ..., 0, 0, 1])"
            ]
          },
          "metadata": {
            "tags": []
          },
          "execution_count": 10
        }
      ]
    },
    {
      "cell_type": "code",
      "metadata": {
        "id": "vCAlfFmhqZeZ",
        "colab_type": "code",
        "colab": {}
      },
      "source": [
        "from torch.utils.data.dataset import Dataset\n",
        "from PIL import Image\n",
        "from torchvision.transforms import ToTensor, ToPILImage\n",
        "import os\n",
        "\n",
        "\n",
        "class VehicleDataset(Dataset):\n",
        "  def __init__(self, input_df, img_folder_path, transform=None):\n",
        "    '''\n",
        "    Args:\n",
        "      input_df (pandas Dataframe): Incoming dataframe with image information (image name, label etc)\n",
        "      img_folder_path (string): folder with all the images\n",
        "      transform (callable, optional): transform to be applied\n",
        "    '''\n",
        "    self.input_df = input_df\n",
        "    self.img_folder_path = img_folder_path\n",
        "    self.images = np.asarray(self.input_df.iloc[:, 0])\n",
        "    self.labels = np.asarray(self.input_df.iloc[:, 1]) # asarray coverts to ndarray --> [4, 3, 4,...]\n",
        "    self.transform = transform\n",
        "\n",
        "  def __len__(self):\n",
        "    return len(self.input_df.index)\n",
        "\n",
        "  def __getitem__(self, idx):\n",
        "    img_name = os.path.join(self.img_folder_path, self.images[idx])\n",
        "    # Open image\n",
        "    img = Image.open(img_name)\n",
        "    label = self.labels[idx]\n",
        "    if self.transform is not None:\n",
        "      img = self.transform(img)\n",
        "\n",
        "    return (img, label)\n"
      ],
      "execution_count": 11,
      "outputs": []
    },
    {
      "cell_type": "markdown",
      "metadata": {
        "id": "5kjt4e2TpoCk",
        "colab_type": "text"
      },
      "source": [
        "The output of torchvision datasets are PILImage images of range [0, 1].\n",
        "We transform them to Tensors of normalized range [-1, 1].\n",
        "\n"
      ]
    },
    {
      "cell_type": "code",
      "metadata": {
        "id": "D8Tjigo2poCl",
        "colab_type": "code",
        "colab": {
          "base_uri": "https://localhost:8080/",
          "height": 34
        },
        "outputId": "c81d4b92-6122-450a-e792-ce0b3cad9a72"
      },
      "source": [
        "SEED = 1\n",
        "BATCH_SIZE = 16\n",
        "\n",
        "# Cuda?\n",
        "cuda = torch.cuda.is_available()\n",
        "print('CUDA available? ', cuda)\n",
        "\n",
        "# For reproducibility\n",
        "torch.manual_seed(seed=SEED)\n",
        "\n",
        "if cuda:\n",
        "  torch.cuda.manual_seed(seed=SEED)\n",
        "\n",
        "# transforms the dataset into Tensors and does other things like augmentation, normalization etc.\n",
        "transform_train = transforms.Compose([\n",
        "                                transforms.RandomCrop(224, padding=4),\n",
        "                                transforms.RandomHorizontalFlip(),\n",
        "                                transforms.ToTensor(),\n",
        "                                transforms.Normalize((0.5, 0.5, 0.5), (0.5, 0.5, 0.5))\n",
        "])\n",
        "\n",
        "# Normalize the test set same as training set without augmentation\n",
        "transform_test = transforms.Compose([\n",
        "                                transforms.ToTensor(),\n",
        "                                transforms.Normalize((0.5, 0.5, 0.5), (0.5, 0.5, 0.5))\n",
        "])\n",
        "\n",
        "# Get the dataset\n",
        "# Loaders have dataset (grouped by batch_size) and configurations e.g. shuffle\n",
        "trainloader = torch.utils.data.DataLoader(\n",
        "    dataset = VehicleDataset(input_df=train_set, img_folder_path=img_dir, transform=transform_train),\n",
        "    batch_size=BATCH_SIZE, \n",
        "    shuffle=True, \n",
        "    num_workers=2\n",
        "  )  # 1646 training images, so total batches = (1646 / 4)\n",
        "\n",
        "# testset = torchvision.datasets.CIFAR10(root='./data', train=False, download=True, transform=transform_test)\n",
        "testloader = torch.utils.data.DataLoader(\n",
        "    dataset = VehicleDataset(input_df=valid_set, img_folder_path=img_dir, transform=transform_test),\n",
        "    batch_size=BATCH_SIZE // 2,\n",
        "    shuffle=False,\n",
        "    num_workers=2\n",
        "  )\n",
        "\n",
        "classes = (0, 1) # 1 = Emergency Vehicle, 0 = Not"
      ],
      "execution_count": 12,
      "outputs": [
        {
          "output_type": "stream",
          "text": [
            "CUDA available?  True\n"
          ],
          "name": "stdout"
        }
      ]
    },
    {
      "cell_type": "code",
      "metadata": {
        "id": "pK-yFe0oJdef",
        "colab_type": "code",
        "colab": {
          "base_uri": "https://localhost:8080/",
          "height": 70
        },
        "outputId": "646efbb6-74ca-448f-b42c-0eb72204f69a"
      },
      "source": [
        "sample_train_data = iter(trainloader)\n",
        "smpl_images, smpl_labels = sample_train_data.next()\n",
        "print(smpl_labels.size(0))\n",
        "print(smpl_labels)\n",
        "print(smpl_images.shape)"
      ],
      "execution_count": 14,
      "outputs": [
        {
          "output_type": "stream",
          "text": [
            "16\n",
            "tensor([1, 0, 0, 0, 0, 0, 1, 1, 1, 0, 0, 1, 0, 1, 1, 0])\n",
            "torch.Size([16, 3, 224, 224])\n"
          ],
          "name": "stdout"
        }
      ]
    },
    {
      "cell_type": "code",
      "metadata": {
        "id": "tth_y5RNoYJP",
        "colab_type": "code",
        "colab": {
          "base_uri": "https://localhost:8080/",
          "height": 52
        },
        "outputId": "c17eb81d-a4e1-40a2-dba3-7d1d0b7bd9e7"
      },
      "source": [
        "count = 0\n",
        "for images, labels in iter(trainloader):  # images and labels grouped by batch_size\n",
        "  print(images[count].shape)\n",
        "  print(labels)\n",
        "  count+=1\n",
        "  if count == 1: break\n"
      ],
      "execution_count": 15,
      "outputs": [
        {
          "output_type": "stream",
          "text": [
            "torch.Size([3, 224, 224])\n",
            "tensor([0, 0, 0, 0, 0, 0, 0, 1, 0, 0, 1, 0, 0, 1, 0, 0])\n"
          ],
          "name": "stdout"
        }
      ]
    },
    {
      "cell_type": "code",
      "metadata": {
        "id": "reHSPrYw-SQY",
        "colab_type": "code",
        "colab": {
          "base_uri": "https://localhost:8080/",
          "height": 34
        },
        "outputId": "da4f1613-639c-48ea-fff4-caafefddde9e"
      },
      "source": [
        "# enumerate works slightly different, data has images and labels\n",
        "count = 0\n",
        "for i, data in enumerate(trainloader):  # images and labels grouped by batch_size\n",
        "  # print(images)\n",
        "  images, labels = data\n",
        "  print(labels)\n",
        "  count+=1\n",
        "  if count == 1: break"
      ],
      "execution_count": 16,
      "outputs": [
        {
          "output_type": "stream",
          "text": [
            "tensor([1, 0, 0, 0, 1, 0, 0, 0, 0, 0, 0, 0, 0, 0, 0, 1])\n"
          ],
          "name": "stdout"
        }
      ]
    },
    {
      "cell_type": "markdown",
      "metadata": {
        "id": "_cj433rtpoCn",
        "colab_type": "text"
      },
      "source": [
        "Let us show some of the training images, for fun.\n",
        "\n"
      ]
    },
    {
      "cell_type": "code",
      "metadata": {
        "id": "daA7bADhpoCo",
        "colab_type": "code",
        "colab": {
          "base_uri": "https://localhost:8080/",
          "height": 189
        },
        "outputId": "3b1def34-0237-4eec-f340-5f36ec769cb0"
      },
      "source": [
        "import matplotlib.pyplot as plt\n",
        "import numpy as np\n",
        "\n",
        "# functions to show image\n",
        "def imshow(img):\n",
        "  img = img / 2 + 0.5  # unnormalize\n",
        "  npimg = img.numpy()\n",
        "  plt.imshow(np.transpose(npimg, (1, 2, 0)))\n",
        "\n",
        "# get some random training images\n",
        "dataiter = iter(trainloader)\n",
        "images, labels = dataiter.next()\n",
        "\n",
        "print('images shape: ', images.shape)  # torch.Size([4, 3, 32, 32])\n",
        "# print('images: ', images)\n",
        "# print('labels: ', labels)              # tensor([6, 3, 1, 0])\n",
        "\n",
        "# show images\n",
        "imshow(torchvision.utils.make_grid(images))\n",
        "print('         '.join('%5s' % classes[labels[j]] for j in range(4)))\n",
        "print(f'{classes[labels[j]] for j in range(4)}')"
      ],
      "execution_count": 17,
      "outputs": [
        {
          "output_type": "stream",
          "text": [
            "images shape:  torch.Size([16, 3, 224, 224])\n",
            "    0             0             0             1\n",
            "<generator object <genexpr> at 0x7f3eed93bfc0>\n"
          ],
          "name": "stdout"
        },
        {
          "output_type": "display_data",
          "data": {
            "image/png": "[encoded data removed]",
            "text/plain": [
              "<Figure size 432x288 with 1 Axes>"
            ]
          },
          "metadata": {
            "tags": [],
            "needs_background": "light"
          }
        }
      ]
    },
    {
      "cell_type": "markdown",
      "metadata": {
        "id": "28OpHA_LpoCq",
        "colab_type": "text"
      },
      "source": [
        "# 2. Define a Convolution Neural Network\n",
        "\n"
      ]
    },
    {
      "cell_type": "code",
      "metadata": {
        "id": "0jjLwLLQpoCr",
        "colab_type": "code",
        "colab": {}
      },
      "source": [
        "import torch.nn as nn\n",
        "import torch.nn.functional as F\n",
        "\n",
        "dropout_value = 0.05\n",
        "\n",
        "class Net(nn.Module):\n",
        "  def __init__(self):\n",
        "    super(Net, self).__init__()\n",
        "\n",
        "    # Layer 1\n",
        "    self.layer1 = nn.Sequential(\n",
        "        # conv1\n",
        "        nn.Conv2d(in_channels=3, out_channels=32, kernel_size=3, padding=1, bias=False),\n",
        "        nn.ReLU(),\n",
        "        nn.BatchNorm2d(32),\n",
        "        nn.Dropout(dropout_value),\n",
        "\n",
        "        # conv2\n",
        "        nn.Conv2d(in_channels=32, out_channels=64, kernel_size=3, padding=1, bias=False),\n",
        "        nn.ReLU(),\n",
        "        nn.BatchNorm2d(64),\n",
        "\n",
        "        # conv3\n",
        "        nn.Conv2d(in_channels=64, out_channels=128, kernel_size=3, padding=0, bias=False),\n",
        "        nn.ReLU(),\n",
        "        nn.BatchNorm2d(128),\n",
        "\n",
        "        # conv4\n",
        "        nn.Conv2d(in_channels=128, out_channels=256, kernel_size=3, padding=0, bias=False),\n",
        "        nn.ReLU(),\n",
        "        nn.BatchNorm2d(256),\n",
        "    )\n",
        "    self.pool1 = nn.MaxPool2d(2, 2)     \n",
        "    \n",
        "    # Layer 2\n",
        "    self.layer2 = nn.Sequential(\n",
        "        # conv1\n",
        "        nn.Conv2d(in_channels=256, out_channels=512, kernel_size=3, padding=1, bias=False),\n",
        "        nn.ReLU(),\n",
        "        nn.BatchNorm2d(512),\n",
        "        nn.Dropout(dropout_value),\n",
        "\n",
        "        # conv2\n",
        "        nn.Conv2d(in_channels=512, out_channels=256, kernel_size=3, padding=1, bias=False),\n",
        "        nn.ReLU(),\n",
        "        nn.BatchNorm2d(256),\n",
        "\n",
        "        # conv3\n",
        "        nn.Conv2d(in_channels=256, out_channels=128, kernel_size=3, padding=1, bias=False),\n",
        "        nn.ReLU(),\n",
        "        nn.BatchNorm2d(128),\n",
        "\n",
        "        # conv4\n",
        "        nn.Conv2d(in_channels=128, out_channels=64, kernel_size=3, padding=1, bias=False),\n",
        "        nn.ReLU(),\n",
        "        nn.BatchNorm2d(64),\n",
        "    )\n",
        "    self.pool2 = nn.MaxPool2d(2, 2)  \n",
        "\n",
        "    # Layer 3\n",
        "    self.layer3 = nn.Sequential(\n",
        "        # conv1\n",
        "        nn.Conv2d(in_channels=64, out_channels=32, kernel_size=3, padding=1, bias=False),\n",
        "        nn.ReLU(),\n",
        "        nn.BatchNorm2d(32),\n",
        "        nn.Dropout(dropout_value),\n",
        "\n",
        "        # conv2\n",
        "        nn.Conv2d(in_channels=32, out_channels=16, kernel_size=3, padding=1, bias=False),\n",
        "        nn.ReLU(),\n",
        "        nn.BatchNorm2d(16),\n",
        "\n",
        "        # conv3\n",
        "        nn.Conv2d(in_channels=16, out_channels=8, kernel_size=3, padding=0, bias=False),\n",
        "        nn.ReLU(),\n",
        "        nn.BatchNorm2d(8),\n",
        "\n",
        "        # conv4\n",
        "        nn.Conv2d(in_channels=8, out_channels=16, kernel_size=3, padding=0, bias=False),\n",
        "        nn.ReLU(),\n",
        "        nn.BatchNorm2d(16),   \n",
        "    )\n",
        "    self.pool3 = nn.MaxPool2d(2, 2)\n",
        "    \n",
        "    # Layer 4\n",
        "    self.layer4 = nn.Sequential(\n",
        "        # conv1\n",
        "        nn.Conv2d(in_channels=16, out_channels=32, kernel_size=3, padding=1, bias=False),\n",
        "        nn.ReLU(),\n",
        "        nn.BatchNorm2d(32),\n",
        "        nn.Dropout(dropout_value),\n",
        "\n",
        "        # conv2\n",
        "        nn.Conv2d(in_channels=32, out_channels=64, kernel_size=3, padding=1, bias=False),\n",
        "        nn.ReLU(),\n",
        "        nn.BatchNorm2d(64),\n",
        "\n",
        "        # conv3\n",
        "        nn.Conv2d(in_channels=64, out_channels=64, kernel_size=3, padding=1, bias=False),\n",
        "        nn.ReLU(),\n",
        "        nn.BatchNorm2d(64),\n",
        "\n",
        "        # conv4\n",
        "        nn.Conv2d(in_channels=64, out_channels=32, kernel_size=3, padding=0, bias=False),\n",
        "        nn.ReLU(),\n",
        "        nn.BatchNorm2d(32),\n",
        "      )\n",
        "    self.pool4 = nn.MaxPool2d(2, 2)\n",
        "\n",
        "    # Layer 5\n",
        "    self.layer5 = nn.Sequential(\n",
        "        # conv1\n",
        "        nn.Conv2d(in_channels=32, out_channels=64, kernel_size=3, padding=1, bias=False),\n",
        "        nn.ReLU(),\n",
        "        nn.BatchNorm2d(64),\n",
        "        nn.Dropout(dropout_value),\n",
        "\n",
        "        # conv2\n",
        "        nn.Conv2d(in_channels=64, out_channels=32, kernel_size=3, padding=1, bias=False),\n",
        "        nn.ReLU(),\n",
        "        nn.BatchNorm2d(32),\n",
        "\n",
        "        # conv3\n",
        "        nn.Conv2d(in_channels=32, out_channels=64, kernel_size=3, padding=0, bias=False),\n",
        "        nn.ReLU(),\n",
        "        nn.BatchNorm2d(64),\n",
        "\n",
        "        # conv4\n",
        "        nn.Conv2d(in_channels=64, out_channels=32, kernel_size=3, padding=0, bias=False),\n",
        "        nn.ReLU(),\n",
        "        nn.BatchNorm2d(32),\n",
        "      )\n",
        "\n",
        "    # Add GAP \n",
        "    self.gap   = nn.AdaptiveAvgPool2d(output_size=1)\n",
        "    # Final layer - works as FC layer\n",
        "    self.layer6 = nn.Sequential(\n",
        "        # conv9\n",
        "        nn.Conv2d(in_channels=32, out_channels=2, kernel_size=1)\n",
        "    )\n",
        "   \n",
        "  def forward(self, x):\n",
        "    x = self.layer1(x)\n",
        "    x = self.pool1(x)\n",
        "\n",
        "    x = self.layer2(x)\n",
        "    x = self.pool2(x)\n",
        "\n",
        "    x = self.layer3(x)\n",
        "    x = self.pool3(x)\n",
        "\n",
        "    x = self.layer4(x)\n",
        "    x = self.pool4(x)\n",
        "\n",
        "    x = self.layer5(x)\n",
        "    x = self.gap(x)\n",
        "\n",
        "    x = self.layer6(x)\n",
        "\n",
        "    x = x.view(-1, 2)\n",
        "    x = F.log_softmax(x, dim=-1)\n",
        "\n",
        "    return x"
      ],
      "execution_count": 18,
      "outputs": []
    },
    {
      "cell_type": "markdown",
      "metadata": {
        "id": "0laji--J_nhI",
        "colab_type": "text"
      },
      "source": [
        "# Model Summary"
      ]
    },
    {
      "cell_type": "code",
      "metadata": {
        "id": "5mQsXEiG_m7M",
        "colab_type": "code",
        "colab": {
          "base_uri": "https://localhost:8080/",
          "height": 1000
        },
        "outputId": "97167c90-ed6d-441f-895f-9b55b9dd4b93"
      },
      "source": [
        "!pip install torchsummary\n",
        "from torchsummary import summary\n",
        "\n",
        "use_cuda = torch.cuda.is_available()\n",
        "device = torch.device('cuda' if use_cuda else 'cpu')\n",
        "net = Net().to(device)\n",
        "summary(net, input_size=(3, 225, 225))"
      ],
      "execution_count": 19,
      "outputs": [
        {
          "output_type": "stream",
          "text": [
            "Requirement already satisfied: torchsummary in /usr/local/lib/python3.6/dist-packages (1.5.1)\n",
            "----------------------------------------------------------------\n",
            "        Layer (type)               Output Shape         Param #\n",
            "================================================================\n",
            "            Conv2d-1         [-1, 32, 225, 225]             864\n",
            "              ReLU-2         [-1, 32, 225, 225]               0\n",
            "       BatchNorm2d-3         [-1, 32, 225, 225]              64\n",
            "           Dropout-4         [-1, 32, 225, 225]               0\n",
            "            Conv2d-5         [-1, 64, 225, 225]          18,432\n",
            "              ReLU-6         [-1, 64, 225, 225]               0\n",
            "       BatchNorm2d-7         [-1, 64, 225, 225]             128\n",
            "            Conv2d-8        [-1, 128, 223, 223]          73,728\n",
            "              ReLU-9        [-1, 128, 223, 223]               0\n",
            "      BatchNorm2d-10        [-1, 128, 223, 223]             256\n",
            "           Conv2d-11        [-1, 256, 221, 221]         294,912\n",
            "             ReLU-12        [-1, 256, 221, 221]               0\n",
            "      BatchNorm2d-13        [-1, 256, 221, 221]             512\n",
            "        MaxPool2d-14        [-1, 256, 110, 110]               0\n",
            "           Conv2d-15        [-1, 512, 110, 110]       1,179,648\n",
            "             ReLU-16        [-1, 512, 110, 110]               0\n",
            "      BatchNorm2d-17        [-1, 512, 110, 110]           1,024\n",
            "          Dropout-18        [-1, 512, 110, 110]               0\n",
            "           Conv2d-19        [-1, 256, 110, 110]       1,179,648\n",
            "             ReLU-20        [-1, 256, 110, 110]               0\n",
            "      BatchNorm2d-21        [-1, 256, 110, 110]             512\n",
            "           Conv2d-22        [-1, 128, 110, 110]         294,912\n",
            "             ReLU-23        [-1, 128, 110, 110]               0\n",
            "      BatchNorm2d-24        [-1, 128, 110, 110]             256\n",
            "           Conv2d-25         [-1, 64, 110, 110]          73,728\n",
            "             ReLU-26         [-1, 64, 110, 110]               0\n",
            "      BatchNorm2d-27         [-1, 64, 110, 110]             128\n",
            "        MaxPool2d-28           [-1, 64, 55, 55]               0\n",
            "           Conv2d-29           [-1, 32, 55, 55]          18,432\n",
            "             ReLU-30           [-1, 32, 55, 55]               0\n",
            "      BatchNorm2d-31           [-1, 32, 55, 55]              64\n",
            "          Dropout-32           [-1, 32, 55, 55]               0\n",
            "           Conv2d-33           [-1, 16, 55, 55]           4,608\n",
            "             ReLU-34           [-1, 16, 55, 55]               0\n",
            "      BatchNorm2d-35           [-1, 16, 55, 55]              32\n",
            "           Conv2d-36            [-1, 8, 53, 53]           1,152\n",
            "             ReLU-37            [-1, 8, 53, 53]               0\n",
            "      BatchNorm2d-38            [-1, 8, 53, 53]              16\n",
            "           Conv2d-39           [-1, 16, 51, 51]           1,152\n",
            "             ReLU-40           [-1, 16, 51, 51]               0\n",
            "      BatchNorm2d-41           [-1, 16, 51, 51]              32\n",
            "        MaxPool2d-42           [-1, 16, 25, 25]               0\n",
            "           Conv2d-43           [-1, 32, 25, 25]           4,608\n",
            "             ReLU-44           [-1, 32, 25, 25]               0\n",
            "      BatchNorm2d-45           [-1, 32, 25, 25]              64\n",
            "          Dropout-46           [-1, 32, 25, 25]               0\n",
            "           Conv2d-47           [-1, 64, 25, 25]          18,432\n",
            "             ReLU-48           [-1, 64, 25, 25]               0\n",
            "      BatchNorm2d-49           [-1, 64, 25, 25]             128\n",
            "           Conv2d-50           [-1, 64, 25, 25]          36,864\n",
            "             ReLU-51           [-1, 64, 25, 25]               0\n",
            "      BatchNorm2d-52           [-1, 64, 25, 25]             128\n",
            "           Conv2d-53           [-1, 32, 23, 23]          18,432\n",
            "             ReLU-54           [-1, 32, 23, 23]               0\n",
            "      BatchNorm2d-55           [-1, 32, 23, 23]              64\n",
            "        MaxPool2d-56           [-1, 32, 11, 11]               0\n",
            "           Conv2d-57           [-1, 64, 11, 11]          18,432\n",
            "             ReLU-58           [-1, 64, 11, 11]               0\n",
            "      BatchNorm2d-59           [-1, 64, 11, 11]             128\n",
            "          Dropout-60           [-1, 64, 11, 11]               0\n",
            "           Conv2d-61           [-1, 32, 11, 11]          18,432\n",
            "             ReLU-62           [-1, 32, 11, 11]               0\n",
            "      BatchNorm2d-63           [-1, 32, 11, 11]              64\n",
            "           Conv2d-64             [-1, 64, 9, 9]          18,432\n",
            "             ReLU-65             [-1, 64, 9, 9]               0\n",
            "      BatchNorm2d-66             [-1, 64, 9, 9]             128\n",
            "           Conv2d-67             [-1, 32, 7, 7]          18,432\n",
            "             ReLU-68             [-1, 32, 7, 7]               0\n",
            "      BatchNorm2d-69             [-1, 32, 7, 7]              64\n",
            "AdaptiveAvgPool2d-70             [-1, 32, 1, 1]               0\n",
            "           Conv2d-71              [-1, 2, 1, 1]              66\n",
            "================================================================\n",
            "Total params: 3,297,138\n",
            "Trainable params: 3,297,138\n",
            "Non-trainable params: 0\n",
            "----------------------------------------------------------------\n",
            "Input size (MB): 0.58\n",
            "Forward/backward pass size (MB): 902.65\n",
            "Params size (MB): 12.58\n",
            "Estimated Total Size (MB): 915.81\n",
            "----------------------------------------------------------------\n"
          ],
          "name": "stdout"
        }
      ]
    },
    {
      "cell_type": "markdown",
      "metadata": {
        "id": "O-odOrhdpoC2",
        "colab_type": "text"
      },
      "source": [
        "# 4. Train the network\n",
        "\n",
        "This is when things start to get interesting.\n",
        "We simply have to loop over our data iterator, and feed the inputs to the\n",
        "network and optimize.\n",
        "\n"
      ]
    },
    {
      "cell_type": "code",
      "metadata": {
        "id": "kkuRfo1IpoC3",
        "colab_type": "code",
        "colab": {}
      },
      "source": [
        "from tqdm import tqdm\n",
        "from pathlib import Path\n",
        "\n",
        "train_acc = []\n",
        "train_loss = []\n",
        "\n",
        "def train(net, device, trainloader, optimizer, epoch):\n",
        "  net.train()\n",
        "  pbar = tqdm(trainloader) # returns iterable of trainloader\n",
        "  running_loss = 0.0\n",
        "  correct = 0\n",
        "  processed = 0\n",
        "\n",
        "  for batch_idx, (inputs, labels) in enumerate(pbar):\n",
        "    # get the inputs\n",
        "    inputs, labels = inputs.to(device), labels.to(device)  # convert data to tensors\n",
        "\n",
        "    # zero the paramter gradients\n",
        "    optimizer.zero_grad()\n",
        "\n",
        "    # forward\n",
        "    outputs = net(inputs)\n",
        "\n",
        "    loss = criterion(outputs, labels)\n",
        "    train_loss.append(loss)\n",
        "    # backward\n",
        "    loss.backward()\n",
        "\n",
        "    # optimize\n",
        "    optimizer.step()\n",
        "\n",
        "    # print statistics\n",
        "    running_loss += loss.item()\n",
        "\n",
        "    _, predictions = torch.max(outputs.data, 1)\n",
        "    correct = correct + (predictions == labels).sum().item()\n",
        "    processed = processed + len(inputs)\n",
        "\n",
        "    pbar.set_description(desc=f'Epoch={epoch} Loss={loss.item()} Batch_id={batch_idx} Train_Accuracy={100 * correct / processed:0.2f}')\n",
        "\n",
        "    train_acc.append(100 * correct / processed)\n",
        "\n",
        "  # save the model after 50 epoch\n",
        "  if(epoch % 20 == 0):\n",
        "    print('\\n==> Saving model ...')\n",
        "    state = {\n",
        "        'model': net.state_dict(),\n",
        "        'epoch': epoch\n",
        "    }\n",
        "    model_path = Path('model_{epoch}.pt'.format(epoch=epoch))\n",
        "    torch.save(state, model_path)"
      ],
      "execution_count": 20,
      "outputs": []
    },
    {
      "cell_type": "code",
      "metadata": {
        "id": "SZ4-5CESpoDD",
        "colab_type": "code",
        "colab": {}
      },
      "source": [
        "test_acc = []\n",
        "test_loss = []\n",
        "\n",
        "def test(net, device, testloader):\n",
        "  net.eval()\n",
        "  correct = 0\n",
        "  total = 0\n",
        "  loss = 0\n",
        "  with torch.no_grad():\n",
        "    for data in testloader:\n",
        "      images, labels = data\n",
        "      images, labels = images.cuda(), labels.cuda()\n",
        "      outputs = net(images)\n",
        "      _, predicted = torch.max(outputs.data, 1)\n",
        "      total += labels.size(0)\n",
        "      # print((predicted == labels).sum().item())     # sum() => sum of correctly predicted images in a batch (here batch_size=4)\n",
        "      # sum().item() : [4] to 4\n",
        "      correct += (predicted == labels).sum().item()\n",
        "  loss = loss / len(testloader.dataset)\n",
        "  test_loss.append(loss)\n",
        "\n",
        "  print(f'Accuracy of the network on the 680 validation images: {correct / total * 100}')\n",
        "  test_acc.append(100. * correct / len(testloader.dataset))"
      ],
      "execution_count": 21,
      "outputs": []
    },
    {
      "cell_type": "markdown",
      "metadata": {
        "id": "Wdw2NNCUpoCu",
        "colab_type": "text"
      },
      "source": [
        "# 3. Define a Loss function and optimizer\n",
        "\n",
        "Let's use a Classification Cross-Entropy loss and SGD with momentum.\n",
        "\n"
      ]
    },
    {
      "cell_type": "code",
      "metadata": {
        "id": "M4xBbDROpoCv",
        "colab_type": "code",
        "colab": {
          "base_uri": "https://localhost:8080/",
          "height": 1000
        },
        "outputId": "f162f235-5a14-4c7b-ec3e-9edbe5f4898e"
      },
      "source": [
        "import torch.optim as optim\n",
        "\n",
        "criterion = nn.CrossEntropyLoss()\n",
        "optimizer = optim.SGD(net.parameters(), lr=0.001, momentum=0.9)\n",
        "\n",
        "EPOCHS = 50\n",
        "\n",
        "for epoch in range(1, EPOCHS):\n",
        "  train(net, device, trainloader, optimizer, epoch)\n",
        "  test(net, device, testloader)"
      ],
      "execution_count": 22,
      "outputs": [
        {
          "output_type": "stream",
          "text": [
            "Epoch=1 Loss=0.6890689730644226 Batch_id=82 Train_Accuracy=65.43: 100%|██████████| 83/83 [00:30<00:00,  2.68it/s]\n",
            "  0%|          | 0/83 [00:00<?, ?it/s]"
          ],
          "name": "stderr"
        },
        {
          "output_type": "stream",
          "text": [
            "Accuracy of the network on the 680 validation images: 66.66666666666666\n"
          ],
          "name": "stdout"
        },
        {
          "output_type": "stream",
          "text": [
            "Epoch=2 Loss=0.8211613893508911 Batch_id=82 Train_Accuracy=75.23: 100%|██████████| 83/83 [00:30<00:00,  2.68it/s]\n",
            "  0%|          | 0/83 [00:00<?, ?it/s]"
          ],
          "name": "stderr"
        },
        {
          "output_type": "stream",
          "text": [
            "Accuracy of the network on the 680 validation images: 70.0\n"
          ],
          "name": "stdout"
        },
        {
          "output_type": "stream",
          "text": [
            "Epoch=3 Loss=1.1522427797317505 Batch_id=82 Train_Accuracy=82.14: 100%|██████████| 83/83 [00:30<00:00,  2.68it/s]\n",
            "  0%|          | 0/83 [00:00<?, ?it/s]"
          ],
          "name": "stderr"
        },
        {
          "output_type": "stream",
          "text": [
            "Accuracy of the network on the 680 validation images: 79.6969696969697\n"
          ],
          "name": "stdout"
        },
        {
          "output_type": "stream",
          "text": [
            "Epoch=4 Loss=0.31329476833343506 Batch_id=82 Train_Accuracy=83.05: 100%|██████████| 83/83 [00:30<00:00,  2.68it/s]\n",
            "  0%|          | 0/83 [00:00<?, ?it/s]"
          ],
          "name": "stderr"
        },
        {
          "output_type": "stream",
          "text": [
            "Accuracy of the network on the 680 validation images: 84.84848484848484\n"
          ],
          "name": "stdout"
        },
        {
          "output_type": "stream",
          "text": [
            "Epoch=5 Loss=0.10017795115709305 Batch_id=82 Train_Accuracy=85.56: 100%|██████████| 83/83 [00:30<00:00,  2.68it/s]\n",
            "  0%|          | 0/83 [00:00<?, ?it/s]"
          ],
          "name": "stderr"
        },
        {
          "output_type": "stream",
          "text": [
            "Accuracy of the network on the 680 validation images: 81.21212121212122\n"
          ],
          "name": "stdout"
        },
        {
          "output_type": "stream",
          "text": [
            "Epoch=6 Loss=0.21627922356128693 Batch_id=82 Train_Accuracy=87.01: 100%|██████████| 83/83 [00:30<00:00,  2.68it/s]\n",
            "  0%|          | 0/83 [00:00<?, ?it/s]"
          ],
          "name": "stderr"
        },
        {
          "output_type": "stream",
          "text": [
            "Accuracy of the network on the 680 validation images: 85.75757575757575\n"
          ],
          "name": "stdout"
        },
        {
          "output_type": "stream",
          "text": [
            "Epoch=7 Loss=0.7189127206802368 Batch_id=82 Train_Accuracy=88.37: 100%|██████████| 83/83 [00:30<00:00,  2.68it/s]\n",
            "  0%|          | 0/83 [00:00<?, ?it/s]"
          ],
          "name": "stderr"
        },
        {
          "output_type": "stream",
          "text": [
            "Accuracy of the network on the 680 validation images: 87.27272727272727\n"
          ],
          "name": "stdout"
        },
        {
          "output_type": "stream",
          "text": [
            "Epoch=8 Loss=0.07073988020420074 Batch_id=82 Train_Accuracy=89.97: 100%|██████████| 83/83 [00:30<00:00,  2.68it/s]\n",
            "  0%|          | 0/83 [00:00<?, ?it/s]"
          ],
          "name": "stderr"
        },
        {
          "output_type": "stream",
          "text": [
            "Accuracy of the network on the 680 validation images: 85.45454545454545\n"
          ],
          "name": "stdout"
        },
        {
          "output_type": "stream",
          "text": [
            "Epoch=9 Loss=0.17123287916183472 Batch_id=82 Train_Accuracy=89.74: 100%|██████████| 83/83 [00:30<00:00,  2.68it/s]\n",
            "  0%|          | 0/83 [00:00<?, ?it/s]"
          ],
          "name": "stderr"
        },
        {
          "output_type": "stream",
          "text": [
            "Accuracy of the network on the 680 validation images: 87.57575757575758\n"
          ],
          "name": "stdout"
        },
        {
          "output_type": "stream",
          "text": [
            "Epoch=10 Loss=0.5257315039634705 Batch_id=82 Train_Accuracy=91.19: 100%|██████████| 83/83 [00:30<00:00,  2.68it/s]\n",
            "  0%|          | 0/83 [00:00<?, ?it/s]"
          ],
          "name": "stderr"
        },
        {
          "output_type": "stream",
          "text": [
            "Accuracy of the network on the 680 validation images: 87.87878787878788\n"
          ],
          "name": "stdout"
        },
        {
          "output_type": "stream",
          "text": [
            "Epoch=11 Loss=0.2559942901134491 Batch_id=82 Train_Accuracy=89.67: 100%|██████████| 83/83 [00:31<00:00,  2.68it/s]\n",
            "  0%|          | 0/83 [00:00<?, ?it/s]"
          ],
          "name": "stderr"
        },
        {
          "output_type": "stream",
          "text": [
            "Accuracy of the network on the 680 validation images: 84.24242424242424\n"
          ],
          "name": "stdout"
        },
        {
          "output_type": "stream",
          "text": [
            "Epoch=12 Loss=0.07724806666374207 Batch_id=82 Train_Accuracy=91.49: 100%|██████████| 83/83 [00:30<00:00,  2.68it/s]\n",
            "  0%|          | 0/83 [00:00<?, ?it/s]"
          ],
          "name": "stderr"
        },
        {
          "output_type": "stream",
          "text": [
            "Accuracy of the network on the 680 validation images: 86.06060606060606\n"
          ],
          "name": "stdout"
        },
        {
          "output_type": "stream",
          "text": [
            "Epoch=13 Loss=0.5574565529823303 Batch_id=82 Train_Accuracy=91.26: 100%|██████████| 83/83 [00:30<00:00,  2.68it/s]\n",
            "  0%|          | 0/83 [00:00<?, ?it/s]"
          ],
          "name": "stderr"
        },
        {
          "output_type": "stream",
          "text": [
            "Accuracy of the network on the 680 validation images: 86.36363636363636\n"
          ],
          "name": "stdout"
        },
        {
          "output_type": "stream",
          "text": [
            "Epoch=14 Loss=0.04249848052859306 Batch_id=82 Train_Accuracy=90.81: 100%|██████████| 83/83 [00:30<00:00,  2.68it/s]\n",
            "  0%|          | 0/83 [00:00<?, ?it/s]"
          ],
          "name": "stderr"
        },
        {
          "output_type": "stream",
          "text": [
            "Accuracy of the network on the 680 validation images: 84.84848484848484\n"
          ],
          "name": "stdout"
        },
        {
          "output_type": "stream",
          "text": [
            "Epoch=15 Loss=0.6025356650352478 Batch_id=82 Train_Accuracy=93.01: 100%|██████████| 83/83 [00:30<00:00,  2.68it/s]\n",
            "  0%|          | 0/83 [00:00<?, ?it/s]"
          ],
          "name": "stderr"
        },
        {
          "output_type": "stream",
          "text": [
            "Accuracy of the network on the 680 validation images: 77.27272727272727\n"
          ],
          "name": "stdout"
        },
        {
          "output_type": "stream",
          "text": [
            "Epoch=16 Loss=1.623205542564392 Batch_id=82 Train_Accuracy=90.58: 100%|██████████| 83/83 [00:30<00:00,  2.68it/s]\n",
            "  0%|          | 0/83 [00:00<?, ?it/s]"
          ],
          "name": "stderr"
        },
        {
          "output_type": "stream",
          "text": [
            "Accuracy of the network on the 680 validation images: 85.45454545454545\n"
          ],
          "name": "stdout"
        },
        {
          "output_type": "stream",
          "text": [
            "Epoch=17 Loss=0.06494547426700592 Batch_id=82 Train_Accuracy=92.48: 100%|██████████| 83/83 [00:30<00:00,  2.68it/s]\n",
            "  0%|          | 0/83 [00:00<?, ?it/s]"
          ],
          "name": "stderr"
        },
        {
          "output_type": "stream",
          "text": [
            "Accuracy of the network on the 680 validation images: 86.36363636363636\n"
          ],
          "name": "stdout"
        },
        {
          "output_type": "stream",
          "text": [
            "Epoch=18 Loss=0.10619541257619858 Batch_id=82 Train_Accuracy=94.30: 100%|██████████| 83/83 [00:30<00:00,  2.68it/s]\n",
            "  0%|          | 0/83 [00:00<?, ?it/s]"
          ],
          "name": "stderr"
        },
        {
          "output_type": "stream",
          "text": [
            "Accuracy of the network on the 680 validation images: 87.57575757575758\n"
          ],
          "name": "stdout"
        },
        {
          "output_type": "stream",
          "text": [
            "Epoch=19 Loss=0.043905653059482574 Batch_id=82 Train_Accuracy=94.45: 100%|██████████| 83/83 [00:30<00:00,  2.68it/s]\n",
            "  0%|          | 0/83 [00:00<?, ?it/s]"
          ],
          "name": "stderr"
        },
        {
          "output_type": "stream",
          "text": [
            "Accuracy of the network on the 680 validation images: 87.87878787878788\n"
          ],
          "name": "stdout"
        },
        {
          "output_type": "stream",
          "text": [
            "Epoch=20 Loss=0.28230851888656616 Batch_id=82 Train_Accuracy=94.68: 100%|██████████| 83/83 [00:31<00:00,  2.68it/s]\n"
          ],
          "name": "stderr"
        },
        {
          "output_type": "stream",
          "text": [
            "\n",
            "==> Saving model ...\n"
          ],
          "name": "stdout"
        },
        {
          "output_type": "stream",
          "text": [
            "\r  0%|          | 0/83 [00:00<?, ?it/s]"
          ],
          "name": "stderr"
        },
        {
          "output_type": "stream",
          "text": [
            "Accuracy of the network on the 680 validation images: 84.24242424242424\n"
          ],
          "name": "stdout"
        },
        {
          "output_type": "stream",
          "text": [
            "Epoch=21 Loss=0.031221069395542145 Batch_id=82 Train_Accuracy=95.29: 100%|██████████| 83/83 [00:30<00:00,  2.68it/s]\n",
            "  0%|          | 0/83 [00:00<?, ?it/s]"
          ],
          "name": "stderr"
        },
        {
          "output_type": "stream",
          "text": [
            "Accuracy of the network on the 680 validation images: 90.0\n"
          ],
          "name": "stdout"
        },
        {
          "output_type": "stream",
          "text": [
            "Epoch=22 Loss=0.7157840132713318 Batch_id=82 Train_Accuracy=95.14: 100%|██████████| 83/83 [00:31<00:00,  2.68it/s]\n",
            "  0%|          | 0/83 [00:00<?, ?it/s]"
          ],
          "name": "stderr"
        },
        {
          "output_type": "stream",
          "text": [
            "Accuracy of the network on the 680 validation images: 86.66666666666667\n"
          ],
          "name": "stdout"
        },
        {
          "output_type": "stream",
          "text": [
            "Epoch=23 Loss=0.027324853464961052 Batch_id=82 Train_Accuracy=93.39: 100%|██████████| 83/83 [00:31<00:00,  2.68it/s]\n",
            "  0%|          | 0/83 [00:00<?, ?it/s]"
          ],
          "name": "stderr"
        },
        {
          "output_type": "stream",
          "text": [
            "Accuracy of the network on the 680 validation images: 87.87878787878788\n"
          ],
          "name": "stdout"
        },
        {
          "output_type": "stream",
          "text": [
            "Epoch=24 Loss=0.051031444221735 Batch_id=82 Train_Accuracy=94.15: 100%|██████████| 83/83 [00:31<00:00,  2.68it/s]\n",
            "  0%|          | 0/83 [00:00<?, ?it/s]"
          ],
          "name": "stderr"
        },
        {
          "output_type": "stream",
          "text": [
            "Accuracy of the network on the 680 validation images: 89.6969696969697\n"
          ],
          "name": "stdout"
        },
        {
          "output_type": "stream",
          "text": [
            "Epoch=25 Loss=0.5744866132736206 Batch_id=82 Train_Accuracy=94.68: 100%|██████████| 83/83 [00:31<00:00,  2.68it/s]\n",
            "  0%|          | 0/83 [00:00<?, ?it/s]"
          ],
          "name": "stderr"
        },
        {
          "output_type": "stream",
          "text": [
            "Accuracy of the network on the 680 validation images: 86.66666666666667\n"
          ],
          "name": "stdout"
        },
        {
          "output_type": "stream",
          "text": [
            "Epoch=26 Loss=0.6881575584411621 Batch_id=82 Train_Accuracy=94.53: 100%|██████████| 83/83 [00:31<00:00,  2.68it/s]\n",
            "  0%|          | 0/83 [00:00<?, ?it/s]"
          ],
          "name": "stderr"
        },
        {
          "output_type": "stream",
          "text": [
            "Accuracy of the network on the 680 validation images: 88.7878787878788\n"
          ],
          "name": "stdout"
        },
        {
          "output_type": "stream",
          "text": [
            "Epoch=27 Loss=0.13052132725715637 Batch_id=82 Train_Accuracy=94.00: 100%|██████████| 83/83 [00:31<00:00,  2.67it/s]\n",
            "  0%|          | 0/83 [00:00<?, ?it/s]"
          ],
          "name": "stderr"
        },
        {
          "output_type": "stream",
          "text": [
            "Accuracy of the network on the 680 validation images: 86.96969696969697\n"
          ],
          "name": "stdout"
        },
        {
          "output_type": "stream",
          "text": [
            "Epoch=28 Loss=0.7323169708251953 Batch_id=82 Train_Accuracy=95.44: 100%|██████████| 83/83 [00:30<00:00,  2.68it/s]\n",
            "  0%|          | 0/83 [00:00<?, ?it/s]"
          ],
          "name": "stderr"
        },
        {
          "output_type": "stream",
          "text": [
            "Accuracy of the network on the 680 validation images: 86.06060606060606\n"
          ],
          "name": "stdout"
        },
        {
          "output_type": "stream",
          "text": [
            "Epoch=29 Loss=0.3499804735183716 Batch_id=82 Train_Accuracy=94.22: 100%|██████████| 83/83 [00:31<00:00,  2.68it/s]\n",
            "  0%|          | 0/83 [00:00<?, ?it/s]"
          ],
          "name": "stderr"
        },
        {
          "output_type": "stream",
          "text": [
            "Accuracy of the network on the 680 validation images: 88.18181818181819\n"
          ],
          "name": "stdout"
        },
        {
          "output_type": "stream",
          "text": [
            "Epoch=30 Loss=0.014392919838428497 Batch_id=82 Train_Accuracy=95.52: 100%|██████████| 83/83 [00:31<00:00,  2.68it/s]\n",
            "  0%|          | 0/83 [00:00<?, ?it/s]"
          ],
          "name": "stderr"
        },
        {
          "output_type": "stream",
          "text": [
            "Accuracy of the network on the 680 validation images: 89.39393939393939\n"
          ],
          "name": "stdout"
        },
        {
          "output_type": "stream",
          "text": [
            "Epoch=31 Loss=0.18959304690361023 Batch_id=82 Train_Accuracy=95.82: 100%|██████████| 83/83 [00:31<00:00,  2.67it/s]\n",
            "  0%|          | 0/83 [00:00<?, ?it/s]"
          ],
          "name": "stderr"
        },
        {
          "output_type": "stream",
          "text": [
            "Accuracy of the network on the 680 validation images: 88.48484848484848\n"
          ],
          "name": "stdout"
        },
        {
          "output_type": "stream",
          "text": [
            "Epoch=32 Loss=0.01055868435651064 Batch_id=82 Train_Accuracy=95.90: 100%|██████████| 83/83 [00:31<00:00,  2.68it/s]\n",
            "  0%|          | 0/83 [00:00<?, ?it/s]"
          ],
          "name": "stderr"
        },
        {
          "output_type": "stream",
          "text": [
            "Accuracy of the network on the 680 validation images: 88.48484848484848\n"
          ],
          "name": "stdout"
        },
        {
          "output_type": "stream",
          "text": [
            "Epoch=33 Loss=0.016054466366767883 Batch_id=82 Train_Accuracy=96.58: 100%|██████████| 83/83 [00:31<00:00,  2.68it/s]\n",
            "  0%|          | 0/83 [00:00<?, ?it/s]"
          ],
          "name": "stderr"
        },
        {
          "output_type": "stream",
          "text": [
            "Accuracy of the network on the 680 validation images: 89.0909090909091\n"
          ],
          "name": "stdout"
        },
        {
          "output_type": "stream",
          "text": [
            "Epoch=34 Loss=1.6273075342178345 Batch_id=82 Train_Accuracy=97.34: 100%|██████████| 83/83 [00:31<00:00,  2.68it/s]\n",
            "  0%|          | 0/83 [00:00<?, ?it/s]"
          ],
          "name": "stderr"
        },
        {
          "output_type": "stream",
          "text": [
            "Accuracy of the network on the 680 validation images: 89.0909090909091\n"
          ],
          "name": "stdout"
        },
        {
          "output_type": "stream",
          "text": [
            "Epoch=35 Loss=1.0477674007415771 Batch_id=82 Train_Accuracy=94.68: 100%|██████████| 83/83 [00:31<00:00,  2.68it/s]\n",
            "  0%|          | 0/83 [00:00<?, ?it/s]"
          ],
          "name": "stderr"
        },
        {
          "output_type": "stream",
          "text": [
            "Accuracy of the network on the 680 validation images: 86.66666666666667\n"
          ],
          "name": "stdout"
        },
        {
          "output_type": "stream",
          "text": [
            "Epoch=36 Loss=0.0123970415443182 Batch_id=82 Train_Accuracy=95.90: 100%|██████████| 83/83 [00:31<00:00,  2.68it/s]\n",
            "  0%|          | 0/83 [00:00<?, ?it/s]"
          ],
          "name": "stderr"
        },
        {
          "output_type": "stream",
          "text": [
            "Accuracy of the network on the 680 validation images: 90.9090909090909\n"
          ],
          "name": "stdout"
        },
        {
          "output_type": "stream",
          "text": [
            "Epoch=37 Loss=0.05093447118997574 Batch_id=82 Train_Accuracy=97.87: 100%|██████████| 83/83 [00:31<00:00,  2.68it/s]\n",
            "  0%|          | 0/83 [00:00<?, ?it/s]"
          ],
          "name": "stderr"
        },
        {
          "output_type": "stream",
          "text": [
            "Accuracy of the network on the 680 validation images: 89.39393939393939\n"
          ],
          "name": "stdout"
        },
        {
          "output_type": "stream",
          "text": [
            "Epoch=38 Loss=0.008778933435678482 Batch_id=82 Train_Accuracy=96.35: 100%|██████████| 83/83 [00:31<00:00,  2.68it/s]\n",
            "  0%|          | 0/83 [00:00<?, ?it/s]"
          ],
          "name": "stderr"
        },
        {
          "output_type": "stream",
          "text": [
            "Accuracy of the network on the 680 validation images: 89.39393939393939\n"
          ],
          "name": "stdout"
        },
        {
          "output_type": "stream",
          "text": [
            "Epoch=39 Loss=0.6775776743888855 Batch_id=82 Train_Accuracy=96.96: 100%|██████████| 83/83 [00:30<00:00,  2.68it/s]\n",
            "  0%|          | 0/83 [00:00<?, ?it/s]"
          ],
          "name": "stderr"
        },
        {
          "output_type": "stream",
          "text": [
            "Accuracy of the network on the 680 validation images: 90.6060606060606\n"
          ],
          "name": "stdout"
        },
        {
          "output_type": "stream",
          "text": [
            "Epoch=40 Loss=0.38271164894104004 Batch_id=82 Train_Accuracy=94.68: 100%|██████████| 83/83 [00:31<00:00,  2.67it/s]"
          ],
          "name": "stderr"
        },
        {
          "output_type": "stream",
          "text": [
            "\n",
            "==> Saving model ...\n"
          ],
          "name": "stdout"
        },
        {
          "output_type": "stream",
          "text": [
            "\n",
            "  0%|          | 0/83 [00:00<?, ?it/s]"
          ],
          "name": "stderr"
        },
        {
          "output_type": "stream",
          "text": [
            "Accuracy of the network on the 680 validation images: 86.66666666666667\n"
          ],
          "name": "stdout"
        },
        {
          "output_type": "stream",
          "text": [
            "Epoch=41 Loss=0.13354171812534332 Batch_id=82 Train_Accuracy=95.52: 100%|██████████| 83/83 [00:31<00:00,  2.68it/s]\n",
            "  0%|          | 0/83 [00:00<?, ?it/s]"
          ],
          "name": "stderr"
        },
        {
          "output_type": "stream",
          "text": [
            "Accuracy of the network on the 680 validation images: 89.0909090909091\n"
          ],
          "name": "stdout"
        },
        {
          "output_type": "stream",
          "text": [
            "Epoch=42 Loss=1.955129861831665 Batch_id=82 Train_Accuracy=95.82: 100%|██████████| 83/83 [00:30<00:00,  2.68it/s]\n",
            "  0%|          | 0/83 [00:00<?, ?it/s]"
          ],
          "name": "stderr"
        },
        {
          "output_type": "stream",
          "text": [
            "Accuracy of the network on the 680 validation images: 90.0\n"
          ],
          "name": "stdout"
        },
        {
          "output_type": "stream",
          "text": [
            "Epoch=43 Loss=0.16526378691196442 Batch_id=82 Train_Accuracy=97.87: 100%|██████████| 83/83 [00:30<00:00,  2.68it/s]\n",
            "  0%|          | 0/83 [00:00<?, ?it/s]"
          ],
          "name": "stderr"
        },
        {
          "output_type": "stream",
          "text": [
            "Accuracy of the network on the 680 validation images: 89.39393939393939\n"
          ],
          "name": "stdout"
        },
        {
          "output_type": "stream",
          "text": [
            "Epoch=44 Loss=0.26201045513153076 Batch_id=82 Train_Accuracy=97.87: 100%|██████████| 83/83 [00:31<00:00,  2.68it/s]\n",
            "  0%|          | 0/83 [00:00<?, ?it/s]"
          ],
          "name": "stderr"
        },
        {
          "output_type": "stream",
          "text": [
            "Accuracy of the network on the 680 validation images: 87.57575757575758\n"
          ],
          "name": "stdout"
        },
        {
          "output_type": "stream",
          "text": [
            "Epoch=45 Loss=0.20259979367256165 Batch_id=82 Train_Accuracy=97.64: 100%|██████████| 83/83 [00:30<00:00,  2.68it/s]\n",
            "  0%|          | 0/83 [00:00<?, ?it/s]"
          ],
          "name": "stderr"
        },
        {
          "output_type": "stream",
          "text": [
            "Accuracy of the network on the 680 validation images: 88.7878787878788\n"
          ],
          "name": "stdout"
        },
        {
          "output_type": "stream",
          "text": [
            "Epoch=46 Loss=1.7385815382003784 Batch_id=82 Train_Accuracy=98.78: 100%|██████████| 83/83 [00:31<00:00,  2.68it/s]\n",
            "  0%|          | 0/83 [00:00<?, ?it/s]"
          ],
          "name": "stderr"
        },
        {
          "output_type": "stream",
          "text": [
            "Accuracy of the network on the 680 validation images: 90.6060606060606\n"
          ],
          "name": "stdout"
        },
        {
          "output_type": "stream",
          "text": [
            "Epoch=47 Loss=0.01838766224682331 Batch_id=82 Train_Accuracy=97.49: 100%|██████████| 83/83 [00:31<00:00,  2.68it/s]\n",
            "  0%|          | 0/83 [00:00<?, ?it/s]"
          ],
          "name": "stderr"
        },
        {
          "output_type": "stream",
          "text": [
            "Accuracy of the network on the 680 validation images: 90.30303030303031\n"
          ],
          "name": "stdout"
        },
        {
          "output_type": "stream",
          "text": [
            "Epoch=48 Loss=0.42586997151374817 Batch_id=82 Train_Accuracy=98.02: 100%|██████████| 83/83 [00:31<00:00,  2.67it/s]\n",
            "  0%|          | 0/83 [00:00<?, ?it/s]"
          ],
          "name": "stderr"
        },
        {
          "output_type": "stream",
          "text": [
            "Accuracy of the network on the 680 validation images: 89.6969696969697\n"
          ],
          "name": "stdout"
        },
        {
          "output_type": "stream",
          "text": [
            "Epoch=49 Loss=0.0028991091530770063 Batch_id=82 Train_Accuracy=97.95: 100%|██████████| 83/83 [00:31<00:00,  2.67it/s]\n"
          ],
          "name": "stderr"
        },
        {
          "output_type": "stream",
          "text": [
            "Accuracy of the network on the 680 validation images: 89.0909090909091\n"
          ],
          "name": "stdout"
        }
      ]
    },
    {
      "cell_type": "markdown",
      "metadata": {
        "id": "YLrvL_fHpoC5",
        "colab_type": "text"
      },
      "source": [
        "# 5. Test the network on the test data\n",
        "\n",
        "\n",
        "We have trained the network for 50 passes over the training dataset.\n",
        "Let's check if the network has learnt anything at all.\n",
        "\n",
        "We will check this by predicting the class label that the neural network\n",
        "outputs, and checking it against the ground-truth. If the prediction is\n",
        "correct, we add the sample to the list of correct predictions.\n",
        "\n",
        "Let us display an image from the test set to get familiar.\n",
        "\n"
      ]
    },
    {
      "cell_type": "code",
      "metadata": {
        "id": "nizbsvw9poC6",
        "colab_type": "code",
        "colab": {
          "base_uri": "https://localhost:8080/",
          "height": 112
        },
        "outputId": "c5a8b0cf-e096-4e03-dbd7-29244b071c50"
      },
      "source": [
        "dataiter = iter(testloader)\n",
        "images, labels = dataiter.next()\n",
        "\n",
        "# print images  \n",
        "imshow(torchvision.utils.make_grid(images))\n",
        "print('GroundTruth:', ' '.join('%5s' % classes[labels[j]] for j in range(8)))"
      ],
      "execution_count": 30,
      "outputs": [
        {
          "output_type": "stream",
          "text": [
            "GroundTruth:     1     0     0     0     0     0     0     1\n"
          ],
          "name": "stdout"
        },
        {
          "output_type": "display_data",
          "data": {
            "image/png": "[encoded data removed]",
            "text/plain": [
              "<Figure size 432x288 with 1 Axes>"
            ]
          },
          "metadata": {
            "tags": [],
            "needs_background": "light"
          }
        }
      ]
    },
    {
      "cell_type": "markdown",
      "metadata": {
        "id": "DAx4QPHVpoC8",
        "colab_type": "text"
      },
      "source": [
        "Okay, now let us see what the neural network thinks these examples above are:\n",
        "\n"
      ]
    },
    {
      "cell_type": "code",
      "metadata": {
        "id": "DbSRMHCzZZXz",
        "colab_type": "code",
        "colab": {}
      },
      "source": [
        "images, labels = images.cuda(), labels.cuda()\n",
        "\n",
        "outputs = net(images)"
      ],
      "execution_count": 24,
      "outputs": []
    },
    {
      "cell_type": "code",
      "metadata": {
        "id": "n4jZny-6NKuP",
        "colab_type": "code",
        "colab": {
          "base_uri": "https://localhost:8080/",
          "height": 52
        },
        "outputId": "e717a72a-4412-4ca8-c67f-03e82c5bc853"
      },
      "source": [
        "outputs"
      ],
      "execution_count": 28,
      "outputs": [
        {
          "output_type": "execute_result",
          "data": {
            "text/plain": [
              "tensor([[-4.9591e-05, -9.9064e+00],\n",
              "        [-7.1764e-04, -7.2400e+00]], device='cuda:0')"
            ]
          },
          "metadata": {
            "tags": []
          },
          "execution_count": 28
        }
      ]
    },
    {
      "cell_type": "markdown",
      "metadata": {
        "id": "u8OTHZEApoC_",
        "colab_type": "text"
      },
      "source": [
        "The outputs are energies for the 2 classes.\n",
        "Higher the energy for a class, the more the network\n",
        "thinks that the image is of the particular class.\n",
        "So, let's get the index of the highest energy:\n",
        "\n"
      ]
    },
    {
      "cell_type": "code",
      "metadata": {
        "id": "ABRIDW3lpoDA",
        "colab_type": "code",
        "colab": {
          "base_uri": "https://localhost:8080/",
          "height": 70
        },
        "outputId": "b345e0d6-04b1-4168-cdb4-c20dd36f1325"
      },
      "source": [
        "_, predicted = torch.max(outputs, 1) # picks the max value\n",
        "\n",
        "print(predicted)\n",
        "print(classes)\n",
        "print('Predicted: ', ' '.join('%5s' % classes[predicted[j]] for j in range(8)))"
      ],
      "execution_count": 25,
      "outputs": [
        {
          "output_type": "stream",
          "text": [
            "tensor([1, 0, 0, 0, 0, 0, 0, 1], device='cuda:0')\n",
            "(0, 1)\n",
            "Predicted:      1     0     0     0     0     0     0     1\n"
          ],
          "name": "stdout"
        }
      ]
    },
    {
      "cell_type": "markdown",
      "metadata": {
        "id": "eDdwPBl8poDF",
        "colab_type": "text"
      },
      "source": [
        "That looks waaay better than chance, which is 50% accuracy (randomly picking\n",
        "a class out of 2 classes).\n",
        "Seems like the network learnt something.\n",
        "\n",
        "Hmmm, what are the classes that performed well, and the classes that did\n",
        "not perform well:\n",
        "\n"
      ]
    },
    {
      "cell_type": "code",
      "metadata": {
        "id": "VJfGHrOC79nA",
        "colab_type": "code",
        "colab": {
          "base_uri": "https://localhost:8080/",
          "height": 34
        },
        "outputId": "584c23e8-caf0-41a2-dfb7-2fe95edfadfc"
      },
      "source": [
        "class_correct = list(0. for i in range(2))\n",
        "class_total = list(0. for i in range(2))\n",
        "class_correct"
      ],
      "execution_count": 26,
      "outputs": [
        {
          "output_type": "execute_result",
          "data": {
            "text/plain": [
              "[0.0, 0.0]"
            ]
          },
          "metadata": {
            "tags": []
          },
          "execution_count": 26
        }
      ]
    },
    {
      "cell_type": "code",
      "metadata": {
        "id": "pDNFuDEDpoDG",
        "colab_type": "code",
        "colab": {
          "base_uri": "https://localhost:8080/",
          "height": 158
        },
        "outputId": "aa527de1-85c5-4ceb-9504-8f0a59bc3234"
      },
      "source": [
        "with torch.no_grad():\n",
        "  for data in testloader:\n",
        "    images, labels = data\n",
        "    images, labels = images.cuda(), labels.cuda()\n",
        "    # print(images.shape)   # torch.Size([8, 3, 224, 224])\n",
        "    # print(labels)         # tensor([1, 0, 0, 0, 0, 0, 0, 1], device='cuda:0')\n",
        "    # print(labels.shape)   # torch.Size([8])\n",
        "    outputs = net(images)\n",
        "    _, predicted = torch.max(outputs.data, 1)\n",
        "    c = (predicted == labels).squeeze()\n",
        "    # print(c)             # tensor([False,  True,  True,  True,  True,  True,  True,  True], device='cuda:0')\n",
        "    for i in range(8):\n",
        "      try:\n",
        "        label = labels[i]\n",
        "        class_correct[label] += c[i].item()     # c[i].item() returns 1 if True\n",
        "        class_total[label] += 1\n",
        "      except IndexError:\n",
        "        print('It is the last batch with less images :) ')\n",
        "        continue\n",
        "\n",
        "for i in range(2):\n",
        "  print(f'Accuracy of {classes[i]} : {100 * class_correct[i] / class_total[i]}')"
      ],
      "execution_count": 29,
      "outputs": [
        {
          "output_type": "stream",
          "text": [
            "It is the last batch with less images :) \n",
            "It is the last batch with less images :) \n",
            "It is the last batch with less images :) \n",
            "It is the last batch with less images :) \n",
            "It is the last batch with less images :) \n",
            "It is the last batch with less images :) \n",
            "Accuracy of 0 : 94.94949494949495\n",
            "Accuracy of 1 : 80.3030303030303\n"
          ],
          "name": "stdout"
        }
      ]
    }
  ]
}